{
 "cells": [
  {
   "cell_type": "markdown",
   "metadata": {},
   "source": [
    "Date Detection\n",
    "\n",
    "Write a regular expression that can detect dates in the DD/MM/YYYY format. Assume that the days range from 01 to 31, the months range from 01 to 12, and the years range from 1000 to 2999. Note that if the day or month is a single digit, it'll have a leading zero.\n",
    "\n",
    "The regular expression doesn't have to detect correct days for each month or for leap years, it will accept nonexistent dates like 31/02/2020 or 31/04/2021. Then store these strings into variables named month, day, and year, and write additional code that can detect if it is a valid date. April, June, September, and November have 30 days, February has 28 days, and the rest of the months have 31 days. February has 29 days in leap years. Leap years are every year evenly divisible by 4, except for years evenly divisible by 100, unless the year is also evenly divisible by 400. Note how this calculation makes it impossible to make a reasonably sized regular expression that can detect a valid date.\n"
   ]
  },
  {
   "cell_type": "code",
   "execution_count": 1,
   "metadata": {},
   "outputs": [
    {
     "name": "stdout",
     "output_type": "stream",
     "text": [
      "Date Detection Tests:\n",
      "31/02/2020: Invalid date\n",
      "15/06/2023: Valid date\n",
      "31/04/2021: Invalid date\n",
      "29/02/2024: Valid date\n"
     ]
    }
   ],
   "source": [
    "import re\n",
    "\n",
    "def detect_date(text):\n",
    "    \"\"\"\n",
    "    Detects dates in DD/MM/YYYY format and validates them.\n",
    "    Returns a tuple of (is_valid, day, month, year) if a date is found, None otherwise.\n",
    "    \"\"\"\n",
    "    # Regex pattern for DD/MM/YYYY format\n",
    "    date_pattern = r'(\\d{2})/(\\d{2})/(\\d{4})'\n",
    "    match = re.search(date_pattern, text)\n",
    "    \n",
    "    if not match:\n",
    "        return None\n",
    "    \n",
    "    # Convert matched groups to integers\n",
    "    day, month, year = map(int, match.groups())\n",
    "    \n",
    "    # Validate year range (1000-2999)\n",
    "    if not (1000 <= year <= 2999):\n",
    "        return False, day, month, year\n",
    "    \n",
    "    # Validate month range (1-12)\n",
    "    if not (1 <= month <= 12):\n",
    "        return False, day, month, year\n",
    "    \n",
    "    # Dictionary mapping months to their number of days\n",
    "    # February has 29 days in leap years, 28 otherwise\n",
    "    days_in_month = {\n",
    "        1: 31, 2: 29 if is_leap_year(year) else 28, 3: 31,\n",
    "        4: 30, 5: 31, 6: 30, 7: 31, 8: 31, 9: 30,\n",
    "        10: 31, 11: 30, 12: 31\n",
    "    }\n",
    "    \n",
    "    # Check if the day is valid for the given month\n",
    "    is_valid = 1 <= day <= days_in_month[month]\n",
    "    return is_valid, day, month, year\n",
    "\n",
    "def is_leap_year(year):\n",
    "    \"\"\"Helper function to check if a year is a leap year.\n",
    "    Leap years are divisible by 4, except for years divisible by 100,\n",
    "    unless they are also divisible by 400.\n",
    "    \"\"\"\n",
    "    return year % 4 == 0 and (year % 100 != 0 or year % 400 == 0)\n",
    "\n",
    "# Test cases\n",
    "test_dates = [\n",
    "    \"31/02/2020\",  # Invalid date (February has 28 days in 2020)\n",
    "    \"15/06/2023\",  # Valid date\n",
    "    \"31/04/2021\",  # Invalid date (April has 30 days)\n",
    "    \"29/02/2024\",  # Valid date (2024 is a leap year)\n",
    "]\n",
    "\n",
    "print(\"Date Detection Tests:\")\n",
    "for date in test_dates:\n",
    "    result = detect_date(date)\n",
    "    if result:\n",
    "        is_valid, day, month, year = result\n",
    "        print(f\"{date}: {'Valid' if is_valid else 'Invalid'} date\")"
   ]
  },
  {
   "cell_type": "markdown",
   "metadata": {},
   "source": [
    "Strong Password Detection\n",
    "\n",
    "Write a function that uses regular expressions to make sure the password string it is passed is strong. A strong password is defined as one that is at least eight characters long, contains both uppercase and lowercase characters, and has at least one digit. You may need to test the string against multiple regex patterns to validate its strength.\n"
   ]
  },
  {
   "cell_type": "code",
   "execution_count": 2,
   "metadata": {},
   "outputs": [
    {
     "name": "stdout",
     "output_type": "stream",
     "text": [
      "Password Strength Tests:\n",
      "weak: Weak password\n",
      "weakpassword: Weak password\n",
      "WeakPassword: Weak password\n",
      "WeakP@ssw0rd: Strong password\n"
     ]
    }
   ],
   "source": [
    "import re\n",
    "\n",
    "def is_strong_password(password):\n",
    "    \"\"\"\n",
    "    Validates if a password is strong.\n",
    "    Requirements:\n",
    "    - At least 8 characters long\n",
    "    - Contains both uppercase and lowercase characters\n",
    "    - Has at least one digit\n",
    "    \"\"\"\n",
    "    # Check minimum length\n",
    "    if len(password) < 8:\n",
    "        return False\n",
    "    \n",
    "    # Check for uppercase letters using regex\n",
    "    if not re.search(r'[A-Z]', password):\n",
    "        return False\n",
    "    \n",
    "    # Check for lowercase letters using regex\n",
    "    if not re.search(r'[a-z]', password):\n",
    "        return False\n",
    "    \n",
    "    # Check for digits using regex\n",
    "    if not re.search(r'\\d', password):\n",
    "        return False\n",
    "    \n",
    "    return True\n",
    "\n",
    "# Test cases\n",
    "test_passwords = [\n",
    "    \"weak\",           # Too short\n",
    "    \"weakpassword\",   # No uppercase or digits\n",
    "    \"WeakPassword\",   # No digits\n",
    "    \"WeakP@ssw0rd\",  # Strong password\n",
    "]\n",
    "\n",
    "print(\"Password Strength Tests:\")\n",
    "for password in test_passwords:\n",
    "    print(f\"{password}: {'Strong' if is_strong_password(password) else 'Weak'} password\")"
   ]
  },
  {
   "cell_type": "markdown",
   "metadata": {},
   "source": [
    "Regex Version of the strip() Method\n",
    "\n",
    "Write a function that takes a string and does the same thing as the strip() string method. If no other arguments are passed other than the string to strip, then whitespace characters will be removed from the beginning and end of the string. Otherwise, the characters specified in the second argument to the function will be removed from the string."
   ]
  },
  {
   "cell_type": "code",
   "execution_count": 3,
   "metadata": {},
   "outputs": [
    {
     "name": "stdout",
     "output_type": "stream",
     "text": [
      "Regex Strip Tests:\n",
      "Original: '   hello   ' -> Stripped: 'hello'\n",
      "Original: '---hello---' -> Stripped: 'hello'\n",
      "Original: '***hello***' -> Stripped: 'hello'\n"
     ]
    }
   ],
   "source": [
    "import re\n",
    "\n",
    "def regex_strip(text, chars=None):\n",
    "    \"\"\"\n",
    "    Implements the strip() string method using regex.\n",
    "    If chars is None, removes whitespace from both ends.\n",
    "    Otherwise, removes the specified characters from both ends.\n",
    "    \"\"\"\n",
    "    if chars is None:\n",
    "        # Remove whitespace from both ends\n",
    "        pattern = r'^\\s+|\\s+$'\n",
    "    else:\n",
    "        # Escape special regex characters and create pattern\n",
    "        escaped_chars = re.escape(chars)\n",
    "        pattern = f'^[{escaped_chars}]+|[{escaped_chars}]+$'\n",
    "    \n",
    "    return re.sub(pattern, '', text)\n",
    "\n",
    "# Test cases\n",
    "test_strings = [\n",
    "    (\"   hello   \", None),           # Strip whitespace\n",
    "    (\"---hello---\", \"-\"),            # Strip dashes\n",
    "    (\"***hello***\", \"*\"),            # Strip asterisks\n",
    "]\n",
    "\n",
    "print(\"Regex Strip Tests:\")\n",
    "for text, chars in test_strings:\n",
    "    result = regex_strip(text, chars)\n",
    "    print(f\"Original: '{text}' -> Stripped: '{result}'\")"
   ]
  }
 ],
 "metadata": {
  "kernelspec": {
   "display_name": "Python 3",
   "language": "python",
   "name": "python3"
  },
  "language_info": {
   "codemirror_mode": {
    "name": "ipython",
    "version": 3
   },
   "file_extension": ".py",
   "mimetype": "text/x-python",
   "name": "python",
   "nbconvert_exporter": "python",
   "pygments_lexer": "ipython3",
   "version": "3.12.0"
  }
 },
 "nbformat": 4,
 "nbformat_minor": 2
}
