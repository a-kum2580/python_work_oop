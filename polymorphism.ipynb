{
 "cells": [
  {
   "cell_type": "markdown",
   "metadata": {},
   "source": [
    "## Polymorphism"
   ]
  },
  {
   "cell_type": "markdown",
   "metadata": {},
   "source": [
    "#### Method Overriding"
   ]
  },
  {
   "cell_type": "code",
   "execution_count": 1,
   "metadata": {},
   "outputs": [
    {
     "name": "stdout",
     "output_type": "stream",
     "text": [
      "Woof!\n",
      "Meow!\n"
     ]
    }
   ],
   "source": [
    "class Animal:\n",
    "    \"\"\"Class representing an animal.\"\"\"\n",
    "\n",
    "    def sound(self) -> str:\n",
    "        \"\"\"Produce the sound of the animal.\"\"\"\n",
    "        return \"Some generic animal sound.\"\n",
    "\n",
    "\n",
    "class Dog(Animal):\n",
    "    \"\"\"Class representing a dog.\"\"\"\n",
    "\n",
    "    def sound(self) -> str:\n",
    "        \"\"\"Produce the sound of the dog.\"\"\"\n",
    "        return \"Woof!\"\n",
    "\n",
    "\n",
    "class Cat(Animal):\n",
    "    \"\"\"Class representing a cat.\"\"\"\n",
    "\n",
    "    def sound(self) -> str:\n",
    "        \"\"\"Produce the sound of the cat.\"\"\"\n",
    "        return \"Meow!\"\n",
    "\n",
    "\n",
    "def make_sound(animal: Animal) -> None:\n",
    "    \"\"\"Make the given animal sound.\"\"\"\n",
    "    print(animal.sound())\n",
    "\n",
    "\n",
    "# Polymorphic behavior based on object types\n",
    "dog = Dog()\n",
    "cat = Cat()\n",
    "\n",
    "make_sound(dog)\n",
    "make_sound(cat)"
   ]
  },
  {
   "cell_type": "markdown",
   "metadata": {},
   "source": [
    "#### Duck Typing"
   ]
  },
  {
   "cell_type": "code",
   "execution_count": 2,
   "metadata": {},
   "outputs": [
    {
     "name": "stdout",
     "output_type": "stream",
     "text": [
      "Flying high.\n",
      "Soaring through the sky.\n"
     ]
    }
   ],
   "source": [
    "class Bird:\n",
    "    \"\"\"Class representing a bird.\"\"\"\n",
    "\n",
    "    def fly(self) -> str:\n",
    "        \"\"\"Fly like a bird.\"\"\"\n",
    "        return \"Flying high.\"\n",
    "\n",
    "\n",
    "class Airplane:\n",
    "    \"\"\"Class representing an airplane.\"\"\"\n",
    "\n",
    "    def fly(self) -> str:\n",
    "        \"\"\"Fly like an airplane.\"\"\"\n",
    "        return \"Soaring through the sky.\"\n",
    "\n",
    "\n",
    "def lift_off(entity: Airplane | Bird) -> str:\n",
    "    \"\"\"Make the given entity fly.\"\"\"\n",
    "    return entity.fly()\n",
    "\n",
    "\n",
    "# Polymorphic behavior based on methods\n",
    "bird = Bird()\n",
    "airplane = Airplane()\n",
    "\n",
    "print(lift_off(bird))\n",
    "print(lift_off(airplane))"
   ]
  }
 ],
 "metadata": {
  "kernelspec": {
   "display_name": "py-12",
   "language": "python",
   "name": "python3"
  },
  "language_info": {
   "codemirror_mode": {
    "name": "ipython",
    "version": 3
   },
   "file_extension": ".py",
   "mimetype": "text/x-python",
   "name": "python",
   "nbconvert_exporter": "python",
   "pygments_lexer": "ipython3",
   "version": "3.12.6"
  }
 },
 "nbformat": 4,
 "nbformat_minor": 2
}
